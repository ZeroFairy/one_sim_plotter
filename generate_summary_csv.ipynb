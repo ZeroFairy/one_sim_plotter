{
 "cells": [
  {
   "cell_type": "code",
   "execution_count": 80,
   "id": "bc8763a5",
   "metadata": {},
   "outputs": [],
   "source": [
    "import os\n",
    "import csv\n",
    "import re"
   ]
  },
  {
   "cell_type": "code",
   "execution_count": 81,
   "id": "483bb299",
   "metadata": {},
   "outputs": [],
   "source": [
    "REPORT_DIR = r\"F:\\Simulator\\the-one-de-main\\reports\\GridCrowdMulti\"\n",
    "OUTPUT_CSV = os.path.join(\"data\", \"gridProphetMulti\", \"csv\",  \"summary_report.csv\")"
   ]
  },
  {
   "cell_type": "code",
   "execution_count": 82,
   "id": "f03fc42b",
   "metadata": {},
   "outputs": [],
   "source": [
    "# Step 1: Define the keys you want to extract\n",
    "filename_keys = [\"bufferSize\", \"dropPolicy\", \"forwardingStrategy\"]"
   ]
  },
  {
   "cell_type": "code",
   "execution_count": 83,
   "id": "2e9e8479",
   "metadata": {},
   "outputs": [],
   "source": [
    "def parse_file_stats(filepath):\n",
    "    stats = {}\n",
    "    with open(filepath, 'r') as f:\n",
    "        for line in f:\n",
    "            line = line.strip()\n",
    "            if ':' in line:\n",
    "                key, value = line.split(':', 1)\n",
    "                stats[key.strip()] = value.strip()\n",
    "    return stats\n",
    "\n",
    "def parse_filename_metadata(filename, keys_to_extract):\n",
    "    base = os.path.splitext(filename)[0]\n",
    "    metadata = {'filename': base}\n",
    "    for key in keys_to_extract:\n",
    "        pattern = rf'{re.escape(key)}@([^\\-_@]+)'\n",
    "        match = re.search(pattern, base)\n",
    "        metadata[key] = match.group(1) if match else ''\n",
    "    return metadata"
   ]
  },
  {
   "cell_type": "code",
   "execution_count": 84,
   "id": "0281e7d0",
   "metadata": {},
   "outputs": [],
   "source": [
    "all_data = []"
   ]
  },
  {
   "cell_type": "code",
   "execution_count": 85,
   "id": "37732049",
   "metadata": {},
   "outputs": [
    {
     "name": "stdout",
     "output_type": "stream",
     "text": [
      "✅ Summary written to: data\\gridProphetMulti\\csv\\summary_report.csv\n"
     ]
    }
   ],
   "source": [
    "for filename in os.listdir(REPORT_DIR):\n",
    "    if filename.endswith('.txt'):\n",
    "        filepath = os.path.join(REPORT_DIR, filename)\n",
    "        metadata = parse_filename_metadata(filename, filename_keys)\n",
    "        stats = parse_file_stats(filepath)\n",
    "        combined = {**metadata, **stats}\n",
    "        all_data.append(combined)\n",
    "\n",
    "# Collect all unique fieldnames across all rows\n",
    "fieldnames = sorted({key for row in all_data for key in row})\n",
    "\n",
    "#fieldnames = {key for row in all_data for key in row}\n",
    "\n",
    "# Collect all possible CSV fields\n",
    "os.makedirs(os.path.dirname(OUTPUT_CSV), exist_ok=True)\n",
    "\n",
    "with open(OUTPUT_CSV, 'w', newline='') as csvfile:\n",
    "    writer = csv.DictWriter(csvfile, fieldnames=fieldnames)\n",
    "    writer.writeheader()\n",
    "    writer.writerows(all_data)\n",
    "\n",
    "print(f\"✅ Summary written to: {OUTPUT_CSV}\")"
   ]
  }
 ],
 "metadata": {
  "kernelspec": {
   "display_name": "Python 3",
   "language": "python",
   "name": "python3"
  },
  "language_info": {
   "codemirror_mode": {
    "name": "ipython",
    "version": 3
   },
   "file_extension": ".py",
   "mimetype": "text/x-python",
   "name": "python",
   "nbconvert_exporter": "python",
   "pygments_lexer": "ipython3",
   "version": "3.11.9"
  }
 },
 "nbformat": 4,
 "nbformat_minor": 5
}
